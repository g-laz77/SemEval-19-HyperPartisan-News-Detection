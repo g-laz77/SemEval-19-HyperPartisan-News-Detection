{
 "cells": [
  {
   "cell_type": "markdown",
   "metadata": {},
   "source": [
    "* Change padding idx\n",
    "* CNN sentence encoder"
   ]
  },
  {
   "cell_type": "code",
   "execution_count": null,
   "metadata": {
    "collapsed": true
   },
   "outputs": [],
   "source": [
    "import numpy as np"
   ]
  },
  {
   "cell_type": "code",
   "execution_count": null,
   "metadata": {
    "collapsed": true
   },
   "outputs": [],
   "source": [
    "import torch\n",
    "import torch.nn as nn\n",
    "import torch.nn.functional as f"
   ]
  },
  {
   "cell_type": "code",
   "execution_count": null,
   "metadata": {
    "collapsed": true
   },
   "outputs": [],
   "source": [
    "from config import model_config as config"
   ]
  },
  {
   "cell_type": "code",
   "execution_count": null,
   "metadata": {
    "collapsed": true
   },
   "outputs": [],
   "source": [
    "def create_embedding_layer(weights, non_trainable=False):\n",
    "    if weights is not None:\n",
    "        emb_len, word_dims = weights.size()\n",
    "        emb_layer = torch.nn.Embedding(emb_len, word_dims, padding_idx=401005)\n",
    "        emb_layer.load_state_dict({'weight': weights})\n",
    "    else:\n",
    "        emb_layer = torch.nn.Embedding(10, config.word_emb_size, padding_idx=9)\n",
    "        emb_len, word_dims = 10, config.word_emb_size\n",
    "    if non_trainable:\n",
    "        emb_layer.weight.requires_grad = False\n",
    "    return emb_layer, emb_len, word_dims"
   ]
  },
  {
   "cell_type": "code",
   "execution_count": null,
   "metadata": {},
   "outputs": [],
   "source": [
    "class LSTMSentenceEncoderParallel(nn.Module):\n",
    "    '''\n",
    "    INPUT: 3D Tensor of word Ids (batch_size * no_sentences_per_doc * no_words_per_sen)\n",
    "    OUTPUT: 3D Tensor of sentence Embeddings (batch_size * no_sentence_per_doc * sen_emb_size)\n",
    "    '''\n",
    "    def __init__(self, weights=None):\n",
    "\n",
    "        super(LSTMSentenceEncoderParallel, self).__init__()\n",
    "        self.embeddings, vocab, emb_len = create_embedding_layer(weights, config.word_emb_size)\n",
    "        self.sentenceEncoder = nn.LSTM(config.word_emb_size, \n",
    "                                       config.sen_emb_size, \n",
    "                                       batch_first=True, \n",
    "                                       bidirectional=config.sen_bidirectional)\n",
    "        self.sen_emb_size = config.sen_emb_size\n",
    "        if config.sen_bidirectional: self.sen_emb_size *= 2\n",
    "\n",
    "    def forward(self, input, sen_len=config.sen_len):\n",
    "        words = self.embeddings(input.view(-1)).view(-1, sen_len, config.word_emb_size)\n",
    "        sentences = self.sentenceEncoder(words)[1][0].view(config.batch_size, -1, self.sen_emb_size)\n",
    "\n",
    "        return sentences"
   ]
  },
  {
   "cell_type": "code",
   "execution_count": null,
   "metadata": {
    "collapsed": true
   },
   "outputs": [],
   "source": [
    "class SourceBiasParallel(nn.Module):\n",
    "    '''\n",
    "    This method is parallel but maynot be as expressive as SourceBiasSeq\n",
    "    \n",
    "    Transforms each sentence according to the source its cited from. \n",
    "    If a sentence has no such citations, default transformation is used.\n",
    "    '''\n",
    "    def __init__(self, no_urls, non_linearity=torch.tanh):\n",
    "        super(SourceBiasParallel, self).__init__()\n",
    "        self.trans = nn.Linear(config.sen_emb_size * 2, config.sen_emb_size * 2) #for _ in range(no_urls)]\n",
    "        self.source_embeddings = nn.Embedding(no_urls, config.sen_emb_size * 2)\n",
    "        self.non_linearity = non_linearity\n",
    "        \n",
    "    def forward(self, input, urls):\n",
    "        sentences = input.reshape(-1, input.size(2))\n",
    "        urls = self.source_embeddings(urls.reshape(-1))\n",
    "        \n",
    "        output = self.trans(sentences)\n",
    "        print(urls.shape, output.shape)\n",
    "        output *= urls\n",
    "        \n",
    "        return self.non_linearity(output).reshape(input.size())"
   ]
  },
  {
   "cell_type": "code",
   "execution_count": null,
   "metadata": {
    "collapsed": true
   },
   "outputs": [],
   "source": [
    "class SourceBiasSeq(nn.Module):\n",
    "    '''\n",
    "    Forward prop happens sequentially\n",
    "    \n",
    "    Transforms each sentence according to the source its cited from. \n",
    "    If a sentence has no such citations, default transformation is used.\n",
    "    '''\n",
    "    def __init__(self, no_urls, non_linearity=torch.tanh):\n",
    "        super(SourceBiasSeq, self).__init__()\n",
    "        self.trans = nn.Parameter(torch.FloatTensor(no_urls, config.sen_emb_size * 2, config.sen_emb_size * 2))\n",
    "        self.bias = nn.Parameter(torch.FloatTensor(no_urls, config.sen_emb_size * 2))\n",
    "        self.non_linearity = non_linearity\n",
    "        \n",
    "    def forward(self, input, urls):\n",
    "        sentences = input.reshape(-1, input.size(2))\n",
    "        urls = urls.reshape(-1)\n",
    "        \n",
    "        output = []\n",
    "        for sen, url in zip(sentences, urls):\n",
    "            output.append(torch.matmul(sen, self.trans[url]) + self.bias[url])\n",
    "        output = torch.stack(output, 0)\n",
    "        \n",
    "        return self.non_linearity(output).reshape(input.size())"
   ]
  },
  {
   "cell_type": "code",
   "execution_count": null,
   "metadata": {
    "collapsed": true
   },
   "outputs": [],
   "source": [
    "class Attention(nn.Module):\n",
    "    def __init__(self):\n",
    "        super(Attention, self).__init__()\n",
    "        self.trans = nn.Bilinear(config.doc_emb_size * 2, config.title_emb_size * 2, 1)\n",
    "        \n",
    "    def forward(self, input, context):\n",
    "        original_shape = input.size()\n",
    "        context = context.repeat(1, input.size(1)).reshape(-1, context.size(1))\n",
    "        input = input.reshape(-1, input.size(2))\n",
    "        \n",
    "        attention_weights = f.softmax(self.trans(input, context).reshape(original_shape[0:2]).unsqueeze(2), dim=1)\n",
    "        output = torch.sum(input.reshape(original_shape) * attention_weights, dim=1)\n",
    "        return output"
   ]
  },
  {
   "cell_type": "code",
   "execution_count": null,
   "metadata": {
    "collapsed": true
   },
   "outputs": [],
   "source": [
    "class MLP(nn.Module):\n",
    "    def __init__(self, input_size, output_size):\n",
    "        super(MLP, self).__init__()\n",
    "        self.layer1 = nn.Linear(input_size, int(input_size/2))\n",
    "        self.layer2 = nn.Linear(int(input_size/2), output_size)\n",
    "        self.softmax = (output_size > 1)\n",
    "        \n",
    "    def forward(self, input):\n",
    "        h1 = torch.tanh(self.layer1(input))\n",
    "        h2 = torch.tanh(self.layer2(h1))\n",
    "        if self.softmax:\n",
    "            output = f.softmax(h2, dim=1)\n",
    "        else:\n",
    "            output = torch.sigmoid(h2)\n",
    "            \n",
    "        return output"
   ]
  },
  {
   "cell_type": "code",
   "execution_count": null,
   "metadata": {},
   "outputs": [],
   "source": [
    "class Model(nn.Module):\n",
    "    def __init__(self, no_urls, weights=None):\n",
    "        super(Model, self).__init__()\n",
    "        self.sentenceEncoder = LSTMSentenceEncoderParallel(weights)\n",
    "        self.sourceBias = SourceBiasSeq(no_urls)\n",
    "        self.documentEncoder = nn.LSTM(config.sen_emb_size * 2, config.doc_emb_size, batch_first=True, bidirectional=True)\n",
    "        self.documentAttention = Attention()\n",
    "        self.biasMLP = MLP(config.doc_emb_size * 2, 5)\n",
    "        self.truthMLP = MLP(config.doc_emb_size * 2, 1)\n",
    "        \n",
    "    def forward(self, input, urls, titles):\n",
    "        sentences = self.sentenceEncoder(input)\n",
    "        bias_sentences = self.sourceBias(sentences, urls)\n",
    "        documents = self.documentEncoder(sentences)[0]\n",
    "        headings = self.sentenceEncoder(titles, config.title_len).squeeze(1)\n",
    "        document_reps = self.documentAttention(documents, headings)\n",
    "        bias_output = self.biasMLP(document_reps)\n",
    "        truth_output = self.truthMLP(document_reps)\n",
    "        \n",
    "        return bias_output, truth_output"
   ]
  },
  {
   "cell_type": "code",
   "execution_count": null,
   "metadata": {},
   "outputs": [],
   "source": [
    "m = Model(10)"
   ]
  },
  {
   "cell_type": "code",
   "execution_count": null,
   "metadata": {
    "collapsed": true
   },
   "outputs": [],
   "source": [
    "input = torch.LongTensor(np.random.uniform(0, 10, (config.batch_size, 10, config.sen_len)))"
   ]
  },
  {
   "cell_type": "code",
   "execution_count": null,
   "metadata": {
    "collapsed": true
   },
   "outputs": [],
   "source": [
    "urls = torch.LongTensor(np.random.uniform(0, 10, (config.batch_size, 10)))"
   ]
  },
  {
   "cell_type": "code",
   "execution_count": null,
   "metadata": {},
   "outputs": [],
   "source": [
    "titles = torch.LongTensor(np.random.uniform(0, 10, (config.batch_size, config.title_len)))"
   ]
  },
  {
   "cell_type": "code",
   "execution_count": null,
   "metadata": {},
   "outputs": [],
   "source": [
    "m(input, urls, titles)"
   ]
  }
 ],
 "metadata": {
  "kernelspec": {
   "display_name": "py3",
   "language": "python",
   "name": "py3"
  },
  "language_info": {
   "codemirror_mode": {
    "name": "ipython",
    "version": 3
   },
   "file_extension": ".py",
   "mimetype": "text/x-python",
   "name": "python",
   "nbconvert_exporter": "python",
   "pygments_lexer": "ipython3",
   "version": "3.5.2"
  }
 },
 "nbformat": 4,
 "nbformat_minor": 2
}

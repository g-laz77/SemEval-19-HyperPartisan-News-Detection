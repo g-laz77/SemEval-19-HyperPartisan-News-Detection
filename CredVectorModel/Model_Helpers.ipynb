{
 "cells": [
  {
   "cell_type": "markdown",
   "metadata": {},
   "source": [
    "* Change padding idx\n",
    "* CNN sentence encoder"
   ]
  },
  {
   "cell_type": "code",
   "execution_count": null,
   "metadata": {
    "collapsed": true
   },
   "outputs": [],
   "source": [
    "import numpy as np"
   ]
  },
  {
   "cell_type": "code",
   "execution_count": null,
   "metadata": {
    "collapsed": true
   },
   "outputs": [],
   "source": [
    "import torch\n",
    "import torch.nn as nn\n",
    "import torch.nn.functional as f"
   ]
  },
  {
   "cell_type": "code",
   "execution_count": null,
   "metadata": {
    "collapsed": true
   },
   "outputs": [],
   "source": [
    "DEFAULT_VOCAB_LEN=401004\n",
    "DEFAULT_WORD_DIM=100"
   ]
  },
  {
   "cell_type": "code",
   "execution_count": null,
   "metadata": {
    "collapsed": true
   },
   "outputs": [],
   "source": [
    "def create_embedding_layer(weights, word_emb_size=100, non_trainable=False):\n",
    "    if weights is not None:\n",
    "        emb_len, word_dims = weights.size()\n",
    "        emb_layer = torch.nn.Embedding(emb_len, word_dims, padding_idx=401001)\n",
    "        emb_layer.load_state_dict({'weight': weights})\n",
    "    else:\n",
    "        emb_layer = torch.nn.Embedding(DEFAULT_VOCAB_LEN,\n",
    "                                       word_emb_size, padding_idx=DEFAULT_VOCAB_LEN-1)\n",
    "        emb_len, word_dims = DEFAULT_VOCAB_LEN, DEFAULT_WORD_DIM\n",
    "    if non_trainable:\n",
    "        emb_layer.weight.requires_grad = False\n",
    "    return emb_layer, emb_len, word_dims"
   ]
  },
  {
   "cell_type": "code",
   "execution_count": null,
   "metadata": {
    "collapsed": true
   },
   "outputs": [],
   "source": [
    "class LSTMSentenceEncoderParallel(nn.Module):\n",
    "    '''\n",
    "    INPUT: 3D Tensor of word Ids (batch_size * no_sentences_per_doc * no_words_per_sen)\n",
    "    OUTPUT: 3D Tensor of sentence Embeddings (batch_size * no_sentence_per_doc * sen_emb_size)\n",
    "    '''\n",
    "    def __init__(self, weights=None,\n",
    "                       word_emb_size=100,\n",
    "                       sen_emb_size=150,\n",
    "                       sen_len=50,\n",
    "                       batch_size=20,\n",
    "                       bidirectional=True):\n",
    "\n",
    "        super(LSTMSentenceEncoderParallel, self).__init__()\n",
    "        self.word_emb_size = word_emb_size\n",
    "        self.sen_emb_size = sen_emb_size\n",
    "        self.sen_len = sen_len\n",
    "        self.batch_size = batch_size\n",
    "        self.embeddings, vocab, emb_len = create_embedding_layer(weights, word_emb_size)\n",
    "        if bidirectional: self.sen_emb_size *= 2\n",
    "        self.sentenceEncoder = nn.LSTM(word_emb_size, sen_emb_size, batch_first=True, bidirectional=bidirectional)\n",
    "        \n",
    "    def forward(self, input):\n",
    "        words = self.embeddings(input.view(-1)).view(-1, self.sen_len, self.word_emb_size)\n",
    "        sentences = self.sentenceEncoder(words)[1][0].view(self.batch_size, -1, self.sen_emb_size)\n",
    "\n",
    "        return sentences"
   ]
  },
  {
   "cell_type": "code",
   "execution_count": null,
   "metadata": {
    "collapsed": true
   },
   "outputs": [],
   "source": [
    "class SourceBias(nn.Module):\n",
    "    '''\n",
    "    NOTE: Forward Prop is not parallel\n",
    "    Transforms each sentence according to the source its cited from. \n",
    "    If a sentence has no such citations, default transformation is used.\n",
    "    '''\n",
    "    def __init__(self, sen_emb_size, no_urls, non_linearity=torch.tanh):\n",
    "        super(SourceBias, self).__init__()\n",
    "        self.trans = [nn.Linear(sen_emb_size, sen_emb_size) for _ in range(no_urls)]\n",
    "        self.non_linearity = non_linearity\n",
    "        \n",
    "    def forward(self, input, urls):\n",
    "        d = input.reshape(-1, input.size(0))\n",
    "        u = urls.reshape(-1)\n",
    "\n",
    "        output = []\n",
    "        for emb, url in zip(d, u):\n",
    "            output.append(self.trans[url](emb))\n",
    "        output = torch.stack(output, 0)\n",
    "        \n",
    "        return self.non_linearity(output).reshape(input.size())"
   ]
  },
  {
   "cell_type": "code",
   "execution_count": null,
   "metadata": {
    "collapsed": true
   },
   "outputs": [],
   "source": [
    "class Attention(nn.Module):\n",
    "    pass"
   ]
  },
  {
   "cell_type": "code",
   "execution_count": null,
   "metadata": {
    "collapsed": true
   },
   "outputs": [],
   "source": [
    "class "
   ]
  }
 ],
 "metadata": {
  "kernelspec": {
   "display_name": "py3",
   "language": "python",
   "name": "py3"
  },
  "language_info": {
   "codemirror_mode": {
    "name": "ipython",
    "version": 3
   },
   "file_extension": ".py",
   "mimetype": "text/x-python",
   "name": "python",
   "nbconvert_exporter": "python",
   "pygments_lexer": "ipython3",
   "version": "3.5.2"
  }
 },
 "nbformat": 4,
 "nbformat_minor": 2
}

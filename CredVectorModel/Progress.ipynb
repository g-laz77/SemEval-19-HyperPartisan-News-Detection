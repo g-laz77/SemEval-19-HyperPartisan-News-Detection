{
 "cells": [
  {
   "cell_type": "markdown",
   "metadata": {},
   "source": [
    "# Results and Progress"
   ]
  },
  {
   "cell_type": "markdown",
   "metadata": {},
   "source": [
    "## Initial model\n",
    "\n",
    "### Results\n",
    "* F1 on ground_truth: 0.50\n",
    "* F1 on Multi_class_classification: 0.31\n",
    "* Confusion Matrix\n",
    "<pre>\n",
    "[11153.,  2760.,  1352.,   230.,  9089.]\n",
    "[ 8425.,  6720.,  1485.,   176.,  1288.]\n",
    "[ 8884.,  6932.,  1456.,   168.,  2373.]\n",
    "[ 7442.,  2151.,   330.,    51.,  1670.]\n",
    "[ 9995.,  2437.,   430.,   531., 11192.]\n",
    "</pre>\n",
    "\n",
    "### Improvements to be made\n",
    "* Add padding support for BiLstm\n",
    "* Sub sample URL embeddings"
   ]
  }
 ],
 "metadata": {
  "kernelspec": {
   "display_name": "py3",
   "language": "python",
   "name": "py3"
  },
  "language_info": {
   "codemirror_mode": {
    "name": "ipython",
    "version": 3
   },
   "file_extension": ".py",
   "mimetype": "text/x-python",
   "name": "python",
   "nbconvert_exporter": "python",
   "pygments_lexer": "ipython3",
   "version": "3.5.2"
  }
 },
 "nbformat": 4,
 "nbformat_minor": 2
}

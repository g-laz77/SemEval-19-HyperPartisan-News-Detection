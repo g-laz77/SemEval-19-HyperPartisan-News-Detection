{
 "cells": [
  {
   "cell_type": "code",
   "execution_count": 1,
   "metadata": {
    "collapsed": true
   },
   "outputs": [],
   "source": [
    "import _pickle as pickle"
   ]
  },
  {
   "cell_type": "code",
   "execution_count": null,
   "metadata": {
    "collapsed": true
   },
   "outputs": [],
   "source": [
    "import torch"
   ]
  },
  {
   "cell_type": "code",
   "execution_count": null,
   "metadata": {
    "collapsed": true
   },
   "outputs": [],
   "source": [
    "def pad_data(data, max_sen_len=50, max_doc_len=90, padding_idx=400003):\n",
    "    lines = []\n",
    "    lengths = []\n",
    "    for doc in data:\n",
    "        lines.append([])\n",
    "        lengths.append([])\n",
    "        for line in doc[2][0:max_doc_len]:\n",
    "            if len(line) > max_sen_len:\n",
    "                line = line[0:max_sen_len]\n",
    "                lengths[-1].append(max_sen_len)\n",
    "            else:\n",
    "                lengths[-1].append(len(line))\n",
    "                line = line + [padding_idx for _ in range(max_sen_len - len(line))]\n",
    "            lines[-1].append(line)\n",
    "    return lines, lengths"
   ]
  },
  {
   "cell_type": "code",
   "execution_count": null,
   "metadata": {
    "collapsed": true
   },
   "outputs": [],
   "source": [
    "def pad_titles(data, max_sen_len=20, padding_idx=400003):\n",
    "    lines = []\n",
    "    for row in data:\n",
    "        line = row[0]\n",
    "        if len(line) > max_sen_len:\n",
    "            lines.append(line[0:max_sen_len])\n",
    "        else:\n",
    "            lines.append(line + [padding_idx for _ in range(max_sen_len - len(line))])\n",
    "    return lines"
   ]
  },
  {
   "cell_type": "code",
   "execution_count": null,
   "metadata": {
    "collapsed": true
   },
   "outputs": [],
   "source": [
    "class_mapping = {\n",
    "    'left': [1, 0, 0, 0, 0],\n",
    "    'left-center': [0, 1, 0, 0, 0],\n",
    "    'least': [0, 0, 1, 0, 0],\n",
    "    'right-center': [0, 0, 0, 1, 0],\n",
    "    'right': [0, 0, 0, 0, 1],\n",
    "}"
   ]
  },
  {
   "cell_type": "code",
   "execution_count": null,
   "metadata": {
    "collapsed": true
   },
   "outputs": [],
   "source": [
    "EMB = pickle.load(open('./Meta/glove_100d_vectors', 'rb'))\n",
    "EMB.append(np.zeros(100))\n",
    "EMB = torch.Tensor(EMB)"
   ]
  },
  {
   "cell_type": "code",
   "execution_count": null,
   "metadata": {
    "collapsed": true
   },
   "outputs": [],
   "source": [
    "URLS = pickle.load(open('./Meta/urls', 'rb'))\n",
    "NO_URLS = len(URLS)"
   ]
  }
 ],
 "metadata": {
  "kernelspec": {
   "display_name": "py3",
   "language": "python",
   "name": "py3"
  },
  "language_info": {
   "codemirror_mode": {
    "name": "ipython",
    "version": 3
   },
   "file_extension": ".py",
   "mimetype": "text/x-python",
   "name": "python",
   "nbconvert_exporter": "python",
   "pygments_lexer": "ipython3",
   "version": "3.5.2"
  }
 },
 "nbformat": 4,
 "nbformat_minor": 2
}

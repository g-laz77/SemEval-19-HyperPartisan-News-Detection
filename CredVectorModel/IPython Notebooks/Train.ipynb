{
 "cells": [
  {
   "cell_type": "code",
   "execution_count": 3,
   "metadata": {
    "collapsed": true
   },
   "outputs": [],
   "source": [
    "import torch\n",
    "import torch.nn as nn\n",
    "import torch.nn.functional as f\n",
    "import torch.optim as optim"
   ]
  },
  {
   "cell_type": "code",
   "execution_count": 4,
   "metadata": {
    "collapsed": true
   },
   "outputs": [],
   "source": [
    "import _pickle as pickle\n",
    "import random"
   ]
  },
  {
   "cell_type": "code",
   "execution_count": 5,
   "metadata": {
    "collapsed": true
   },
   "outputs": [],
   "source": [
    "device = torch.device(\"cuda\" if torch.cuda.is_available() else \"cpu\")"
   ]
  },
  {
   "cell_type": "code",
   "execution_count": 6,
   "metadata": {
    "collapsed": true
   },
   "outputs": [],
   "source": [
    "torch.cuda.set_device(0)"
   ]
  },
  {
   "cell_type": "code",
   "execution_count": 21,
   "metadata": {},
   "outputs": [],
   "source": [
    "%run Model.ipynb"
   ]
  },
  {
   "cell_type": "code",
   "execution_count": 8,
   "metadata": {
    "collapsed": true
   },
   "outputs": [],
   "source": [
    "%run Helpers.ipynb"
   ]
  },
  {
   "cell_type": "code",
   "execution_count": 15,
   "metadata": {
    "collapsed": true
   },
   "outputs": [],
   "source": [
    "use_source_bias = False\n",
    "no_iterations = 10"
   ]
  },
  {
   "cell_type": "code",
   "execution_count": 34,
   "metadata": {
    "collapsed": true
   },
   "outputs": [],
   "source": [
    "class TrainModel():\n",
    "    def __init__(self, model):\n",
    "        self.model = model\n",
    "        self.raw_data, self.lines, self.pad_lengths, self.truth, self.class_, self.urls = None, None, None, None, None, None\n",
    "        self.file_no = 0\n",
    "        self.max_file_no = 8\n",
    "        self.batch_size = 20\n",
    "        \n",
    "        self.loss1 = nn.BCEWithLogitsLoss()\n",
    "        self.loss2 = nn.BCELoss()\n",
    "        self.optimizer = optim.Adam(self.model.parameters())\n",
    "        self.losses = []\n",
    "        \n",
    "    def __get_next_batch(self):\n",
    "        pass\n",
    "    \n",
    "    def __load_next(self):\n",
    "        self.raw_data = pickle.load(open('training_' + str(self.file_no), 'rb'))\n",
    "        self.lines, self.pad_lengths = pad_data(self.raw_data)\n",
    "        self.class_ = [class_mapping[row[-1]] for row in self.raw_data]\n",
    "        self.truth = [int(row[-2]) for row in self.raw_data]\n",
    "        self.lengths = [[] for _ in range(90)]\n",
    "        for i, j in enumerate(self.lines):\n",
    "            if not len(j) == 0:\n",
    "                self.lengths[len(j) - 1].append(i)\n",
    "        self.urls = [i[1][0:90] for i in self.raw_data]\n",
    "        self.batches = []\n",
    "        for unit in self.lengths:\n",
    "            for i in range(0, len(unit), self.batch_size):\n",
    "                self.batches.append(unit[i:i+self.batch_size])\n",
    "        self.titles = pad_titles(self.raw_data)\n",
    "        random.shuffle(self.batches)\n",
    "        self.file_no += 1\n",
    "                \n",
    "    def train_epoch(self):\n",
    "        while self.file_no < self.max_file_no:\n",
    "            self.__load_next()\n",
    "            for batch in self.batches:\n",
    "                if len(batch) == 20:\n",
    "                    self.model.zero_grad()\n",
    "                    input = torch.cuda.LongTensor([self.lines[i] for i in batch])\n",
    "                    urls = torch.cuda.LongTensor([self.urls[i] for i in batch])\n",
    "                    titles = torch.cuda.LongTensor([self.titles[i] for i in batch])\n",
    "                    truth = torch.cuda.FloatTensor([[self.truth[i]] for i in batch])\n",
    "                    bias = torch.cuda.ByteTensor([self.class_[i] for i in batch])\n",
    "                    lengths = torch.cuda.FloatTensor([self.pad_lengths[i] for i in batch])\n",
    "                    pbias, ptruth = self.model(input, urls, titles) #lengths)\n",
    "                    # normal BCE loss\n",
    "                    #  loss1 = self.loss2(ptruth, truth)\n",
    "                    # softmax loss\n",
    "                    pbias_select = pbias.masked_select(bias)\n",
    "                    ones = torch.ones(pbias_select.size()).cuda()\n",
    "                    loss2 = self.loss2(pbias_select, ones)\n",
    "                    self.output = [pbias, pbias_select, ones]\n",
    "                    # add both losses\n",
    "                    loss = loss2 # + loss1\n",
    "                    print(str(self.batches.index(batch)) + ' ' + str(loss), end='\\r')\n",
    "                    self.losses.append(loss.cpu().data)\n",
    "                    loss.backward()\n",
    "                    self.optimizer.step()"
   ]
  },
  {
   "cell_type": "code",
   "execution_count": 35,
   "metadata": {},
   "outputs": [
    {
     "data": {
      "text/plain": [
       "Model(\n",
       "  (sentenceEncoder): LSTMSentenceEncoderParallel(\n",
       "    (embeddings): Embedding(400004, 100, padding_idx=400003)\n",
       "    (sentenceEncoder): LSTM(100, 150, batch_first=True, bidirectional=True)\n",
       "  )\n",
       "  (documentEncoder): LSTM(300, 300, batch_first=True, bidirectional=True)\n",
       "  (documentAttention): Attention(\n",
       "    (trans): Bilinear(in1_features=600, in2_features=300, out_features=1, bias=True)\n",
       "  )\n",
       "  (biasMLP): MLP(\n",
       "    (layer1): Linear(in_features=600, out_features=300, bias=True)\n",
       "    (layer2): Linear(in_features=300, out_features=5, bias=True)\n",
       "  )\n",
       "  (truthMLP): MLP(\n",
       "    (layer1): Linear(in_features=600, out_features=300, bias=True)\n",
       "    (layer2): Linear(in_features=300, out_features=1, bias=True)\n",
       "  )\n",
       ")"
      ]
     },
     "execution_count": 35,
     "metadata": {},
     "output_type": "execute_result"
    }
   ],
   "source": [
    "m = Model(NO_URLS, EMB, use_source_bias=use_source_bias)\n",
    "m.cuda()"
   ]
  },
  {
   "cell_type": "code",
   "execution_count": 36,
   "metadata": {
    "collapsed": true
   },
   "outputs": [],
   "source": [
    "t = TrainModel(m)"
   ]
  },
  {
   "cell_type": "code",
   "execution_count": 37,
   "metadata": {},
   "outputs": [
    {
     "name": "stdout",
     "output_type": "stream",
     "text": [
      "242 tensor(0.9082, device='cuda:0', grad_fn=<BinaryCrossEntropyBackward>)\r"
     ]
    },
    {
     "ename": "KeyboardInterrupt",
     "evalue": "",
     "output_type": "error",
     "traceback": [
      "\u001b[0;31m---------------------------------------------------------------------------\u001b[0m",
      "\u001b[0;31mKeyboardInterrupt\u001b[0m                         Traceback (most recent call last)",
      "\u001b[0;32m<ipython-input-37-35ec3e84ef3e>\u001b[0m in \u001b[0;36m<module>\u001b[0;34m()\u001b[0m\n\u001b[1;32m      1\u001b[0m \u001b[0;32mfor\u001b[0m \u001b[0mi\u001b[0m \u001b[0;32min\u001b[0m \u001b[0mrange\u001b[0m\u001b[0;34m(\u001b[0m\u001b[0mno_iterations\u001b[0m\u001b[0;34m)\u001b[0m\u001b[0;34m:\u001b[0m\u001b[0;34m\u001b[0m\u001b[0m\n\u001b[0;32m----> 2\u001b[0;31m     \u001b[0mt\u001b[0m\u001b[0;34m.\u001b[0m\u001b[0mtrain_epoch\u001b[0m\u001b[0;34m(\u001b[0m\u001b[0;34m)\u001b[0m\u001b[0;34m\u001b[0m\u001b[0m\n\u001b[0m\u001b[1;32m      3\u001b[0m     \u001b[0mtorch\u001b[0m\u001b[0;34m.\u001b[0m\u001b[0msave\u001b[0m\u001b[0;34m(\u001b[0m\u001b[0mt\u001b[0m\u001b[0;34m.\u001b[0m\u001b[0mmodel\u001b[0m\u001b[0;34m.\u001b[0m\u001b[0mstate_dict\u001b[0m\u001b[0;34m(\u001b[0m\u001b[0;34m)\u001b[0m\u001b[0;34m,\u001b[0m \u001b[0;34m'parameters_'\u001b[0m \u001b[0;34m+\u001b[0m \u001b[0mstr\u001b[0m\u001b[0;34m(\u001b[0m\u001b[0mi\u001b[0m\u001b[0;34m)\u001b[0m\u001b[0;34m)\u001b[0m\u001b[0;34m\u001b[0m\u001b[0m\n\u001b[1;32m      4\u001b[0m     \u001b[0;31m# add validation here\u001b[0m\u001b[0;34m\u001b[0m\u001b[0;34m\u001b[0m\u001b[0m\n",
      "\u001b[0;32m<ipython-input-34-bdc714e06995>\u001b[0m in \u001b[0;36mtrain_epoch\u001b[0;34m(self)\u001b[0m\n\u001b[1;32m     39\u001b[0m                 \u001b[0;32mif\u001b[0m \u001b[0mlen\u001b[0m\u001b[0;34m(\u001b[0m\u001b[0mbatch\u001b[0m\u001b[0;34m)\u001b[0m \u001b[0;34m==\u001b[0m \u001b[0;36m20\u001b[0m\u001b[0;34m:\u001b[0m\u001b[0;34m\u001b[0m\u001b[0m\n\u001b[1;32m     40\u001b[0m                     \u001b[0mself\u001b[0m\u001b[0;34m.\u001b[0m\u001b[0mmodel\u001b[0m\u001b[0;34m.\u001b[0m\u001b[0mzero_grad\u001b[0m\u001b[0;34m(\u001b[0m\u001b[0;34m)\u001b[0m\u001b[0;34m\u001b[0m\u001b[0m\n\u001b[0;32m---> 41\u001b[0;31m                     \u001b[0minput\u001b[0m \u001b[0;34m=\u001b[0m \u001b[0mtorch\u001b[0m\u001b[0;34m.\u001b[0m\u001b[0mcuda\u001b[0m\u001b[0;34m.\u001b[0m\u001b[0mLongTensor\u001b[0m\u001b[0;34m(\u001b[0m\u001b[0;34m[\u001b[0m\u001b[0mself\u001b[0m\u001b[0;34m.\u001b[0m\u001b[0mlines\u001b[0m\u001b[0;34m[\u001b[0m\u001b[0mi\u001b[0m\u001b[0;34m]\u001b[0m \u001b[0;32mfor\u001b[0m \u001b[0mi\u001b[0m \u001b[0;32min\u001b[0m \u001b[0mbatch\u001b[0m\u001b[0;34m]\u001b[0m\u001b[0;34m)\u001b[0m\u001b[0;34m\u001b[0m\u001b[0m\n\u001b[0m\u001b[1;32m     42\u001b[0m                     \u001b[0murls\u001b[0m \u001b[0;34m=\u001b[0m \u001b[0mtorch\u001b[0m\u001b[0;34m.\u001b[0m\u001b[0mcuda\u001b[0m\u001b[0;34m.\u001b[0m\u001b[0mLongTensor\u001b[0m\u001b[0;34m(\u001b[0m\u001b[0;34m[\u001b[0m\u001b[0mself\u001b[0m\u001b[0;34m.\u001b[0m\u001b[0murls\u001b[0m\u001b[0;34m[\u001b[0m\u001b[0mi\u001b[0m\u001b[0;34m]\u001b[0m \u001b[0;32mfor\u001b[0m \u001b[0mi\u001b[0m \u001b[0;32min\u001b[0m \u001b[0mbatch\u001b[0m\u001b[0;34m]\u001b[0m\u001b[0;34m)\u001b[0m\u001b[0;34m\u001b[0m\u001b[0m\n\u001b[1;32m     43\u001b[0m                     \u001b[0mtitles\u001b[0m \u001b[0;34m=\u001b[0m \u001b[0mtorch\u001b[0m\u001b[0;34m.\u001b[0m\u001b[0mcuda\u001b[0m\u001b[0;34m.\u001b[0m\u001b[0mLongTensor\u001b[0m\u001b[0;34m(\u001b[0m\u001b[0;34m[\u001b[0m\u001b[0mself\u001b[0m\u001b[0;34m.\u001b[0m\u001b[0mtitles\u001b[0m\u001b[0;34m[\u001b[0m\u001b[0mi\u001b[0m\u001b[0;34m]\u001b[0m \u001b[0;32mfor\u001b[0m \u001b[0mi\u001b[0m \u001b[0;32min\u001b[0m \u001b[0mbatch\u001b[0m\u001b[0;34m]\u001b[0m\u001b[0;34m)\u001b[0m\u001b[0;34m\u001b[0m\u001b[0m\n",
      "\u001b[0;31mKeyboardInterrupt\u001b[0m: "
     ]
    }
   ],
   "source": [
    "for i in range(no_iterations):\n",
    "    t.train_epoch()\n",
    "    torch.save(t.model.state_dict(), 'parameters_' + str(i))\n",
    "    # add validation here"
   ]
  }
 ],
 "metadata": {
  "kernelspec": {
   "display_name": "py3",
   "language": "python",
   "name": "py3"
  },
  "language_info": {
   "codemirror_mode": {
    "name": "ipython",
    "version": 3
   },
   "file_extension": ".py",
   "mimetype": "text/x-python",
   "name": "python",
   "nbconvert_exporter": "python",
   "pygments_lexer": "ipython3",
   "version": "3.5.2"
  }
 },
 "nbformat": 4,
 "nbformat_minor": 2
}

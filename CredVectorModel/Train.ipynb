{
 "cells": [
  {
   "cell_type": "code",
   "execution_count": 1,
   "metadata": {
    "collapsed": true
   },
   "outputs": [],
   "source": [
    "import torch\n",
    "import torch.nn as nn\n",
    "import torch.nn.functional as f\n",
    "import torch.optim as optim"
   ]
  },
  {
   "cell_type": "code",
   "execution_count": 2,
   "metadata": {
    "collapsed": true
   },
   "outputs": [],
   "source": [
    "import _pickle as pickle\n",
    "import random"
   ]
  },
  {
   "cell_type": "code",
   "execution_count": 3,
   "metadata": {
    "collapsed": true
   },
   "outputs": [],
   "source": [
    "device = torch.device(\"cuda\" if torch.cuda.is_available() else \"cpu\")"
   ]
  },
  {
   "cell_type": "code",
   "execution_count": 4,
   "metadata": {},
   "outputs": [],
   "source": [
    "torch.cuda.set_device(1)"
   ]
  },
  {
   "cell_type": "code",
   "execution_count": 5,
   "metadata": {
    "collapsed": true
   },
   "outputs": [],
   "source": [
    "%run Model.ipynb"
   ]
  },
  {
   "cell_type": "code",
   "execution_count": 6,
   "metadata": {},
   "outputs": [],
   "source": [
    "emb = pickle.load(open('./Meta/glove_100d_vectors', 'rb'))\n",
    "emb.append(np.zeros(100))\n",
    "emb = torch.Tensor(emb)"
   ]
  },
  {
   "cell_type": "code",
   "execution_count": 7,
   "metadata": {
    "collapsed": true
   },
   "outputs": [],
   "source": [
    "urls = pickle.load(open('./Meta/urls', 'rb'))\n",
    "no_urls = len(urls)"
   ]
  },
  {
   "cell_type": "code",
   "execution_count": 8,
   "metadata": {
    "collapsed": true
   },
   "outputs": [],
   "source": [
    "class_mapping = {\n",
    "    'left': [1, 0, 0, 0, 0],\n",
    "    'left-center': [0, 1, 0, 0, 0],\n",
    "    'least': [0, 0, 1, 0, 0],\n",
    "    'right': [0, 0, 0, 0, 1],\n",
    "    'right-center': [0, 0, 0, 1, 0],\n",
    "}"
   ]
  },
  {
   "cell_type": "code",
   "execution_count": 9,
   "metadata": {
    "collapsed": true
   },
   "outputs": [],
   "source": [
    "def pad_data(data, max_sen_len=50, max_doc_len=90, padding_idx=400003):\n",
    "    lines = []\n",
    "    lengths = []\n",
    "    for doc in data:\n",
    "        lines.append([])\n",
    "        lengths.append([])\n",
    "        for line in doc[2][0:max_doc_len]:\n",
    "            if len(line) > max_sen_len:\n",
    "                line = line[0:max_sen_len]\n",
    "                lengths[-1].append(max_sen_len)\n",
    "            else:\n",
    "                lengths[-1].append(len(line))\n",
    "                line = line + [padding_idx for _ in range(max_sen_len - len(line))]\n",
    "            lines[-1].append(line)\n",
    "    return lines, lengths"
   ]
  },
  {
   "cell_type": "code",
   "execution_count": 10,
   "metadata": {
    "collapsed": true
   },
   "outputs": [],
   "source": [
    "def pad_titles(data, max_sen_len=20, padding_idx=400003):\n",
    "    lines = []\n",
    "    for row in data:\n",
    "        line = row[0]\n",
    "        if len(line) > max_sen_len:\n",
    "            lines.append(line[0:max_sen_len])\n",
    "        else:\n",
    "            lines.append(line + [padding_idx for _ in range(max_sen_len - len(line))])\n",
    "    return lines"
   ]
  },
  {
   "cell_type": "code",
   "execution_count": 11,
   "metadata": {},
   "outputs": [],
   "source": [
    "class TrainModel():\n",
    "    def __init__(self, model):\n",
    "        self.model = model\n",
    "        self.raw_data, self.lines, self.pad_lengths, self.truth, self.class_, self.urls = None, None, None, None, None, None\n",
    "        self.file_no = 1\n",
    "        self.max_file_no = 8\n",
    "        self.batch_size = 20\n",
    "        \n",
    "        self.loss1 = nn.BCEWithLogitsLoss()\n",
    "        self.loss2 = nn.BCELoss()\n",
    "        self.optimizer = optim.Adam(self.model.parameters())\n",
    "        self.losses = []\n",
    "        \n",
    "    def __get_next_batch(self):\n",
    "        pass\n",
    "    \n",
    "    def __load_next(self):\n",
    "        self.raw_data = pickle.load(open('training_' + str(self.file_no), 'rb'))\n",
    "        self.lines, self.pad_lengths = pad_data(self.raw_data)\n",
    "        self.class_ = [class_mapping[row[-1]] for row in self.raw_data]\n",
    "        self.truth = [int(row[-2]) for row in self.raw_data]\n",
    "        self.lengths = [[] for _ in range(90)]\n",
    "        for i, j in enumerate(self.lines):\n",
    "            if not len(j) == 0:\n",
    "                self.lengths[len(j) - 1].append(i)\n",
    "        self.urls = [i[1][0:90] for i in self.raw_data]\n",
    "        self.batches = []\n",
    "        for unit in self.lengths:\n",
    "            for i in range(0, len(unit), self.batch_size):\n",
    "                self.batches.append(unit[i:i+self.batch_size])\n",
    "        self.titles = pad_titles(self.raw_data)\n",
    "        random.shuffle(self.batches)\n",
    "        self.file_no += 1\n",
    "                \n",
    "    def train_epoch(self):\n",
    "        while self.file_no < self.max_file_no:\n",
    "            self.__load_next()\n",
    "            for batch in self.batches:\n",
    "                if len(batch) == 20:\n",
    "                    self.model.zero_grad()\n",
    "                    input = torch.cuda.LongTensor([self.lines[i] for i in batch])\n",
    "                    urls = torch.cuda.LongTensor([self.urls[i] for i in batch])\n",
    "                    titles = torch.cuda.LongTensor([self.titles[i] for i in batch])\n",
    "                    truth = torch.cuda.FloatTensor([[self.truth[i]] for i in batch])\n",
    "                    bias = torch.cuda.FloatTensor([self.class_[i] for i in batch])\n",
    "                    pbias, ptruth = self.model(input, urls, titles)\n",
    "                    self.output = pbias, bias\n",
    "                    loss1 = self.loss2(ptruth, truth)\n",
    "                    loss2 = self.loss2(pbias, bias)\n",
    "                    loss = loss1 + loss2\n",
    "                    print(str(self.batches.index(batch)) + ' ' + str(loss), end='\\r')\n",
    "                    self.losses.append(loss.cpu().data)\n",
    "                    loss.backward()\n",
    "                    self.optimizer.step()"
   ]
  },
  {
   "cell_type": "code",
   "execution_count": 12,
   "metadata": {},
   "outputs": [
    {
     "data": {
      "text/plain": [
       "Model(\n",
       "  (sentenceEncoder): LSTMSentenceEncoderParallel(\n",
       "    (embeddings): Embedding(400004, 100, padding_idx=400003)\n",
       "    (sentenceEncoder): LSTM(100, 150, batch_first=True, bidirectional=True)\n",
       "  )\n",
       "  (sourceBias): SourceBiasParallel(\n",
       "    (trans): Linear(in_features=300, out_features=300, bias=True)\n",
       "    (source_embeddings): Embedding(210381, 300)\n",
       "  )\n",
       "  (documentEncoder): LSTM(300, 300, batch_first=True, bidirectional=True)\n",
       "  (documentAttention): Attention(\n",
       "    (trans): Bilinear(in1_features=600, in2_features=300, out_features=1, bias=True)\n",
       "  )\n",
       "  (biasMLP): MLP(\n",
       "    (layer1): Linear(in_features=600, out_features=300, bias=True)\n",
       "    (layer2): Linear(in_features=300, out_features=5, bias=True)\n",
       "  )\n",
       "  (truthMLP): MLP(\n",
       "    (layer1): Linear(in_features=600, out_features=300, bias=True)\n",
       "    (layer2): Linear(in_features=300, out_features=1, bias=True)\n",
       "  )\n",
       ")"
      ]
     },
     "execution_count": 12,
     "metadata": {},
     "output_type": "execute_result"
    }
   ],
   "source": [
    "m = Model(no_urls, emb)\n",
    "m.cuda()"
   ]
  },
  {
   "cell_type": "code",
   "execution_count": 13,
   "metadata": {
    "collapsed": true
   },
   "outputs": [],
   "source": [
    "t = TrainModel(m)"
   ]
  },
  {
   "cell_type": "code",
   "execution_count": null,
   "metadata": {},
   "outputs": [
    {
     "name": "stdout",
     "output_type": "stream",
     "text": [
      "941 tensor(0.9339, device='cuda:1', grad_fn=<ThAddBackward>))\r"
     ]
    }
   ],
   "source": [
    "t.train_epoch()"
   ]
  },
  {
   "cell_type": "code",
   "execution_count": null,
   "metadata": {
    "collapsed": true
   },
   "outputs": [],
   "source": [
    "import matplotlib.pyplot as plt"
   ]
  },
  {
   "cell_type": "code",
   "execution_count": null,
   "metadata": {},
   "outputs": [],
   "source": [
    "plt.plot(t.losses)"
   ]
  },
  {
   "cell_type": "markdown",
   "metadata": {},
   "source": [
    "**RESULTS ON VALIDATION SET**"
   ]
  },
  {
   "cell_type": "code",
   "execution_count": null,
   "metadata": {
    "collapsed": true
   },
   "outputs": [],
   "source": [
    "validation_data = pickle.load(open('validation_0', 'rb+'))\n",
    "validation_data.extend(pickle.load(open('validation_1', 'rb+')))"
   ]
  },
  {
   "cell_type": "code",
   "execution_count": null,
   "metadata": {
    "collapsed": true
   },
   "outputs": [],
   "source": [
    "batch_size = 20"
   ]
  },
  {
   "cell_type": "code",
   "execution_count": null,
   "metadata": {},
   "outputs": [],
   "source": [
    "raw_data = validation_data\n",
    "lines, pad_lengths = pad_data(raw_data)\n",
    "class_ = [class_mapping[row[-1]] for row in raw_data]\n",
    "truth = [int(row[-2]) for row in raw_data]\n",
    "lengths = [[] for _ in range(90)]\n",
    "for i, j in enumerate(lines):\n",
    "    if not len(j) == 0:\n",
    "        lengths[len(j) - 1].append(i)\n",
    "urls = [i[1][0:90] for i in raw_data]\n",
    "batches = []\n",
    "for unit in lengths:\n",
    "    for i in range(0, len(unit), batch_size):\n",
    "        batches.append(unit[i:i+batch_size])\n",
    "titles = pad_titles(raw_data)\n",
    "random.shuffle(batches)"
   ]
  },
  {
   "cell_type": "code",
   "execution_count": null,
   "metadata": {
    "collapsed": true
   },
   "outputs": [],
   "source": [
    "bias_tp, bias_tn, bias_fp, bias_fn = 0, 0, 0, 0\n",
    "truth_tp, truth_tn, truth_fp, truth_fn = 0, 0, 0, 0"
   ]
  },
  {
   "cell_type": "code",
   "execution_count": null,
   "metadata": {},
   "outputs": [],
   "source": [
    "for batch in batches:\n",
    "    if len(batch) == 20:\n",
    "        t.model.zero_grad()\n",
    "        input_ = torch.cuda.LongTensor([lines[i] for i in batch])\n",
    "        urls_ = torch.cuda.LongTensor([urls[i] for i in batch])\n",
    "        titles_ = torch.cuda.LongTensor([titles[i] for i in batch])\n",
    "        truth_ = torch.cuda.FloatTensor([[truth[i]] for i in batch])\n",
    "        bias_ = torch.cuda.FloatTensor([class_[i] for i in batch])\n",
    "        pbias, ptruth = t.model(input_, urls_, titles_)\n",
    "        \n",
    "        truth_tp += torch.sum(pbias.gt(.5) * bias.gt(0)).cpu().data\n",
    "        truth_tn += torch.sum(pbias.le(.5) * bias.le(0)).cpu().data\n",
    "        truth_fp += torch.sum(pbias.gt(.5) * bias.le(0)).cpu().data\n",
    "        truth_fn += torch.sum(pbias.le(.5) * bias.gt(0)).cpu().data"
   ]
  },
  {
   "cell_type": "code",
   "execution_count": null,
   "metadata": {
    "collapsed": true
   },
   "outputs": [],
   "source": [
    "precision = truth_tp.long() / (truth_tp + truth_fp).long()\n",
    "recall = truth_tp.long() / (truth_tp + truth_fn).long()"
   ]
  },
  {
   "cell_type": "code",
   "execution_count": null,
   "metadata": {},
   "outputs": [],
   "source": [
    "f1_score = 2 * precision * recall / (precision + recall)"
   ]
  },
  {
   "cell_type": "code",
   "execution_count": null,
   "metadata": {},
   "outputs": [],
   "source": [
    "f1_score"
   ]
  }
 ],
 "metadata": {
  "kernelspec": {
   "display_name": "py3",
   "language": "python",
   "name": "py3"
  },
  "language_info": {
   "codemirror_mode": {
    "name": "ipython",
    "version": 3
   },
   "file_extension": ".py",
   "mimetype": "text/x-python",
   "name": "python",
   "nbconvert_exporter": "python",
   "pygments_lexer": "ipython3",
   "version": "3.5.2"
  }
 },
 "nbformat": 4,
 "nbformat_minor": 2
}

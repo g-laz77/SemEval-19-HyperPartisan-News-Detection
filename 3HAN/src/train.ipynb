{
 "cells": [
  {
   "cell_type": "code",
   "execution_count": 13,
   "metadata": {},
   "outputs": [],
   "source": [
    "import torch\n",
    "import torch.nn as nn\n",
    "import torch.nn.functional as f\n",
    "import torch.optim as optim\n",
    "\n",
    "import _pickle as pickle\n",
    "import random\n",
    "import numpy as np"
   ]
  },
  {
   "cell_type": "code",
   "execution_count": 4,
   "metadata": {},
   "outputs": [
    {
     "name": "stdout",
     "output_type": "stream",
     "text": [
      "cpu\n"
     ]
    }
   ],
   "source": [
    "device = torch.device(\"cuda\" if torch.cuda.is_available() else \"cpu\")\n",
    "print(device)\n",
    "# torch.cuda.set_device(2)"
   ]
  },
  {
   "cell_type": "code",
   "execution_count": 9,
   "metadata": {},
   "outputs": [],
   "source": [
    "from Model import *"
   ]
  },
  {
   "cell_type": "code",
   "execution_count": 15,
   "metadata": {},
   "outputs": [],
   "source": [
    "def pad_data(data, max_sen_len=50, max_doc_len=90, padding_idx=400003):\n",
    "    lines = []\n",
    "    lengths = []\n",
    "    for doc in data:\n",
    "        lines.append([])\n",
    "        lengths.append([])\n",
    "        for line in doc[2][0:max_doc_len]:\n",
    "            if len(line) > max_sen_len:\n",
    "                line = line[0:max_sen_len]\n",
    "                lengths[-1].append(max_sen_len)\n",
    "            else:\n",
    "                lengths[-1].append(len(line))\n",
    "                line = line + [padding_idx for _ in range(max_sen_len - len(line))]\n",
    "            lines[-1].append(line)\n",
    "    return lines, lengths"
   ]
  },
  {
   "cell_type": "code",
   "execution_count": 16,
   "metadata": {},
   "outputs": [],
   "source": [
    "def pad_titles(data, max_sen_len=20, padding_idx=400003):\n",
    "    lines = []\n",
    "    for row in data:\n",
    "        line = row[0]\n",
    "        if len(line) > max_sen_len:\n",
    "            lines.append(line[0:max_sen_len])\n",
    "        else:\n",
    "            lines.append(line + [padding_idx for _ in range(max_sen_len - len(line))])\n",
    "    return lines"
   ]
  },
  {
   "cell_type": "code",
   "execution_count": 20,
   "metadata": {},
   "outputs": [
    {
     "ename": "UnpicklingError",
     "evalue": "could not find MARK",
     "output_type": "error",
     "traceback": [
      "\u001b[0;31m---------------------------------------------------------------------------\u001b[0m",
      "\u001b[0;31mUnpicklingError\u001b[0m                           Traceback (most recent call last)",
      "\u001b[0;32m<ipython-input-20-6a2876c0508f>\u001b[0m in \u001b[0;36m<module>\u001b[0;34m()\u001b[0m\n\u001b[1;32m      7\u001b[0m }\n\u001b[1;32m      8\u001b[0m \u001b[0;34m\u001b[0m\u001b[0m\n\u001b[0;32m----> 9\u001b[0;31m \u001b[0mEMB\u001b[0m \u001b[0;34m=\u001b[0m \u001b[0mpickle\u001b[0m\u001b[0;34m.\u001b[0m\u001b[0mload\u001b[0m\u001b[0;34m(\u001b[0m\u001b[0mopen\u001b[0m\u001b[0;34m(\u001b[0m\u001b[0;34m'../../glove.6B/100d.txt'\u001b[0m\u001b[0;34m,\u001b[0m \u001b[0;34m'rb'\u001b[0m\u001b[0;34m)\u001b[0m\u001b[0;34m)\u001b[0m\u001b[0;34m\u001b[0m\u001b[0m\n\u001b[0m\u001b[1;32m     10\u001b[0m \u001b[0mEMB\u001b[0m\u001b[0;34m.\u001b[0m\u001b[0mappend\u001b[0m\u001b[0;34m(\u001b[0m\u001b[0mnp\u001b[0m\u001b[0;34m.\u001b[0m\u001b[0mzeros\u001b[0m\u001b[0;34m(\u001b[0m\u001b[0;36m100\u001b[0m\u001b[0;34m)\u001b[0m\u001b[0;34m)\u001b[0m\u001b[0;34m\u001b[0m\u001b[0m\n\u001b[1;32m     11\u001b[0m \u001b[0mEMB\u001b[0m \u001b[0;34m=\u001b[0m \u001b[0mtorch\u001b[0m\u001b[0;34m.\u001b[0m\u001b[0mTensor\u001b[0m\u001b[0;34m(\u001b[0m\u001b[0mEMB\u001b[0m\u001b[0;34m)\u001b[0m\u001b[0;34m\u001b[0m\u001b[0m\n",
      "\u001b[0;31mUnpicklingError\u001b[0m: could not find MARK"
     ]
    }
   ],
   "source": [
    "class_mapping = {\n",
    "    'left': [1, 0, 0, 0, 0],\n",
    "    'left-center': [0, 1, 0, 0, 0],\n",
    "    'least': [0, 0, 1, 0, 0],\n",
    "    'right-center': [0, 0, 0, 1, 0],\n",
    "    'right': [0, 0, 0, 0, 1],\n",
    "}\n",
    "\n",
    "EMB = pickle.load(open('../../glove.6B/100d.txt', 'rb'))\n",
    "EMB.append(np.zeros(100))\n",
    "EMB = torch.Tensor(EMB)\n",
    "\n",
    "URLS = pickle.load(open('./Meta/urls', 'rb'))\n",
    "NO_URLS = len(URLS)"
   ]
  },
  {
   "cell_type": "code",
   "execution_count": 12,
   "metadata": {},
   "outputs": [
    {
     "ename": "SyntaxError",
     "evalue": "invalid syntax (<ipython-input-12-6d6c44ac06b1>, line 20)",
     "output_type": "error",
     "traceback": [
      "\u001b[0;36m  File \u001b[0;32m\"<ipython-input-12-6d6c44ac06b1>\"\u001b[0;36m, line \u001b[0;32m20\u001b[0m\n\u001b[0;31m    self.class = [class_mapping[row[-1]] for row in self.raw_data]\u001b[0m\n\u001b[0m             ^\u001b[0m\n\u001b[0;31mSyntaxError\u001b[0m\u001b[0;31m:\u001b[0m invalid syntax\n"
     ]
    }
   ],
   "source": [
    "class Train():\n",
    "    def __init__(self, model):\n",
    "        self.model = model\n",
    "        self.raw_data, self.lines, self.pad_lengths = None, None, None \n",
    "        self.truth, self.class_, self.urls = None, None, None\n",
    "        self.file_no = 0\n",
    "        self.max_file_no = 8\n",
    "        self.batch_size = 20\n",
    "        self.loss1 = nn.BCEWithLogitsLoss()\n",
    "        self.loss2 = nn.BCELoss()\n",
    "        self.optimizer = optim.Adam(self.model.parameters())\n",
    "        self.losses = []\n",
    "        \n",
    "    def __get_next_batch(self):\n",
    "        pass\n",
    "    \n",
    "    def _load_next(self):\n",
    "        self.raw_data = pickle.load(open('training_' + str(self.file_no), 'rb'))\n",
    "        self.lines, self.pad_lengths = pad_data(self.raw_data)\n",
    "        self.class = [class_mapping[row[-1]] for row in self.raw_data]\n",
    "        self.truth = [int(row[-2]) for row in self.raw_data]\n",
    "        self.lengths = [[] for _ in range(90)]\n",
    "        for i, j in enumerate(self.lines):\n",
    "            if not len(j) == 0:\n",
    "                self.lengths[len(j)-1].append(i)\n",
    "        self.urls = [i[i][0:90] for i in self.raw_data]\n",
    "        self.batches = []\n",
    "        for unit in self.lengths:\n",
    "            for i in range(0,len(unit), self.batch_size):\n",
    "                self.batches.append(unit[i:i+self.batch_size])\n",
    "        self.titles = pad_titles(self.raw_data)\n",
    "        random.shuffle(self.batches)\n",
    "        self.file_no += 1\n",
    "    \n",
    "    "
   ]
  }
 ],
 "metadata": {
  "kernelspec": {
   "display_name": "Python [conda env:anaconda3]",
   "language": "python",
   "name": "conda-env-anaconda3-py"
  },
  "language_info": {
   "codemirror_mode": {
    "name": "ipython",
    "version": 3
   },
   "file_extension": ".py",
   "mimetype": "text/x-python",
   "name": "python",
   "nbconvert_exporter": "python",
   "pygments_lexer": "ipython3",
   "version": "3.7.0"
  }
 },
 "nbformat": 4,
 "nbformat_minor": 2
}
